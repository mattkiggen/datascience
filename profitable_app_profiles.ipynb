{
 "cells": [
  {
   "cell_type": "markdown",
   "metadata": {},
   "source": [
    "# Market Analysis for Profitable Apps on Google Play and App Store\n",
    "\n",
    "Our aim for this project is to determine what type of apps will be the most profitable to develop. Our current business model are free apps with in-app ads, so we need to ensure that we build the type of apps that are most likely to attract a large number of users."
   ]
  },
  {
   "cell_type": "markdown",
   "metadata": {},
   "source": [
    "### Data Sets\n",
    "\n",
    "We will be using the following data sets:\n",
    "- [10,000 Android apps from Google Play](https://www.kaggle.com/lava18/google-play-store-apps)\n",
    "- [7,000 iOS apps from the App Store](https://www.kaggle.com/ramamet4/app-store-apple-data-set-10k-apps)"
   ]
  },
  {
   "cell_type": "markdown",
   "metadata": {},
   "source": [
    "### Exploring The Data Sets"
   ]
  },
  {
   "cell_type": "code",
   "execution_count": 50,
   "metadata": {
    "collapsed": true
   },
   "outputs": [],
   "source": [
    "from csv import reader\n",
    "\n",
    "# Google Play\n",
    "file = open(\"googleplaystore.csv\", encoding=\"utf8\")\n",
    "read_file = reader(file)\n",
    "android = list(read_file)\n",
    "android_header = android[0]\n",
    "android = android[1:]\n",
    "\n",
    "# App Store\n",
    "file = open(\"AppleStore.csv\", encoding=\"utf8\")\n",
    "read_file = reader(file)\n",
    "ios = list(read_file)\n",
    "ios_header = ios[0]\n",
    "ios = ios[1:]"
   ]
  },
  {
   "cell_type": "markdown",
   "metadata": {},
   "source": [
    "To make it easier to explore the two data sets, we'll first write a function named `explore_data()` that we can use repeatedly to explore rows in a more readable way. We'll also add an option for our function to show the number of rows and columns for any data set."
   ]
  },
  {
   "cell_type": "code",
   "execution_count": 51,
   "metadata": {
    "collapsed": true
   },
   "outputs": [],
   "source": [
    "def explore_data(dataset, start, end, rows_and_columns=False):\n",
    "    dataset_slice = dataset[start:end]    \n",
    "    for row in dataset_slice:\n",
    "        print(row)\n",
    "        print('\\n') # adds a new (empty) line after each row\n",
    "\n",
    "    if rows_and_columns:\n",
    "        print('Number of rows:', len(dataset))\n",
    "        print('Number of columns:', len(dataset[0]))"
   ]
  },
  {
   "cell_type": "markdown",
   "metadata": {},
   "source": [
    "#### Android"
   ]
  },
  {
   "cell_type": "code",
   "execution_count": 52,
   "metadata": {
    "collapsed": false
   },
   "outputs": [
    {
     "name": "stdout",
     "output_type": "stream",
     "text": [
      "['App', 'Category', 'Rating', 'Reviews', 'Size', 'Installs', 'Type', 'Price', 'Content Rating', 'Genres', 'Last Updated', 'Current Ver', 'Android Ver']\n",
      "\n",
      "\n",
      "['Photo Editor & Candy Camera & Grid & ScrapBook', 'ART_AND_DESIGN', '4.1', '159', '19M', '10,000+', 'Free', '0', 'Everyone', 'Art & Design', 'January 7, 2018', '1.0.0', '4.0.3 and up']\n",
      "\n",
      "\n",
      "['Coloring book moana', 'ART_AND_DESIGN', '3.9', '967', '14M', '500,000+', 'Free', '0', 'Everyone', 'Art & Design;Pretend Play', 'January 15, 2018', '2.0.0', '4.0.3 and up']\n",
      "\n",
      "\n",
      "['U Launcher Lite – FREE Live Cool Themes, Hide Apps', 'ART_AND_DESIGN', '4.7', '87510', '8.7M', '5,000,000+', 'Free', '0', 'Everyone', 'Art & Design', 'August 1, 2018', '1.2.4', '4.0.3 and up']\n",
      "\n",
      "\n",
      "Number of rows: 10841\n",
      "Number of columns: 13\n"
     ]
    }
   ],
   "source": [
    "print(android_header)\n",
    "print(\"\\n\")\n",
    "explore_data(android, 0, 3, True)"
   ]
  },
  {
   "cell_type": "markdown",
   "metadata": {},
   "source": [
    "From this we can see that this data set contains 10841 rows, and 13 columns. Some of the columns that we might be interested in are:\n",
    "- App\n",
    "- Category\n",
    "- Rating\n",
    "- Reviews\n",
    "- Installs\n",
    "- Type\n",
    "- Price\n",
    "- Genres\n",
    "- Last updated"
   ]
  },
  {
   "cell_type": "code",
   "execution_count": 53,
   "metadata": {
    "collapsed": false
   },
   "outputs": [
    {
     "name": "stdout",
     "output_type": "stream",
     "text": [
      "['id', 'track_name', 'size_bytes', 'currency', 'price', 'rating_count_tot', 'rating_count_ver', 'user_rating', 'user_rating_ver', 'ver', 'cont_rating', 'prime_genre', 'sup_devices.num', 'ipadSc_urls.num', 'lang.num', 'vpp_lic']\n",
      "\n",
      "\n",
      "['284882215', 'Facebook', '389879808', 'USD', '0.0', '2974676', '212', '3.5', '3.5', '95.0', '4+', 'Social Networking', '37', '1', '29', '1']\n",
      "\n",
      "\n",
      "['389801252', 'Instagram', '113954816', 'USD', '0.0', '2161558', '1289', '4.5', '4.0', '10.23', '12+', 'Photo & Video', '37', '0', '29', '1']\n",
      "\n",
      "\n",
      "['529479190', 'Clash of Clans', '116476928', 'USD', '0.0', '2130805', '579', '4.5', '4.5', '9.24.12', '9+', 'Games', '38', '5', '18', '1']\n",
      "\n",
      "\n",
      "Number of rows: 7197\n",
      "Number of columns: 16\n"
     ]
    }
   ],
   "source": [
    "print(ios_header)\n",
    "print(\"\\n\")\n",
    "explore_data(ios, 0, 3, True)"
   ]
  },
  {
   "cell_type": "markdown",
   "metadata": {},
   "source": [
    "From this we can see that this data set contains 7197 rows, and 16 columns. Some of the columns that we might be interested in are:\n",
    "- track_name\n",
    "- price\n",
    "- rating_count_tot\n",
    "- user_rating\n",
    "- prime_genre\n",
    "\n",
    "Some columns are not very descriptive but you can find more about these in the documentation [here](https://www.kaggle.com/ramamet4/app-store-apple-data-set-10k-apps/home)"
   ]
  },
  {
   "cell_type": "markdown",
   "metadata": {},
   "source": [
    "### Data Cleaning\n",
    "\n",
    "We need to clean the data sets to ensure we produce accurate results. This involves removing duplicates and looking for errors within our data set. Also, we are focused on only free apps, and target an English speaking audience. We will remove those that do not meet these requirements too."
   ]
  },
  {
   "cell_type": "code",
   "execution_count": 54,
   "metadata": {
    "collapsed": false
   },
   "outputs": [
    {
     "name": "stdout",
     "output_type": "stream",
     "text": [
      "['Life Made WI-Fi Touchscreen Photo Frame', '1.9', '19', '3.0M', '1,000+', 'Free', '0', 'Everyone', '', 'February 11, 2018', '1.0.19', '4.0 and up']\n",
      "10472\n"
     ]
    }
   ],
   "source": [
    "# Check for rows that don't have all columns\n",
    "for row in android:\n",
    "    if len(row) != len(android_header):\n",
    "        print(row)\n",
    "        print(android.index(row))"
   ]
  },
  {
   "cell_type": "code",
   "execution_count": 55,
   "metadata": {
    "collapsed": true
   },
   "outputs": [],
   "source": [
    "del android[10472]"
   ]
  },
  {
   "cell_type": "code",
   "execution_count": 56,
   "metadata": {
    "collapsed": false
   },
   "outputs": [],
   "source": [
    "for row in ios:\n",
    "    if len(row) != len(ios_header):\n",
    "        print(row)\n",
    "        print(ios.index(row))"
   ]
  },
  {
   "cell_type": "markdown",
   "metadata": {},
   "source": [
    "Now let's check for duplicate entries"
   ]
  },
  {
   "cell_type": "code",
   "execution_count": 57,
   "metadata": {
    "collapsed": false
   },
   "outputs": [
    {
     "name": "stdout",
     "output_type": "stream",
     "text": [
      "Number of duplicate apps: 1181\n",
      "\n",
      "\n",
      "Examples of duplicate apps: ['Quick PDF Scanner + OCR FREE', 'Box', 'Google My Business', 'ZOOM Cloud Meetings', 'join.me - Simple Meetings', 'Box', 'Zenefits', 'Google Ads', 'Google My Business', 'Slack']\n"
     ]
    }
   ],
   "source": [
    "# Google Play duplicate entries\n",
    "duplicate_apps = []\n",
    "unique_apps = []\n",
    "\n",
    "for row in android:\n",
    "    name = row[0]\n",
    "    if name in unique_apps:\n",
    "        duplicate_apps.append(name)\n",
    "    else:\n",
    "        unique_apps.append(name)\n",
    "        \n",
    "print(\"Number of duplicate apps: {}\".format(len(duplicate_apps)))\n",
    "print(\"\\n\")\n",
    "print(\"Examples of duplicate apps: {}\".format(duplicate_apps[:10]))"
   ]
  },
  {
   "cell_type": "code",
   "execution_count": 58,
   "metadata": {
    "collapsed": false
   },
   "outputs": [
    {
     "name": "stdout",
     "output_type": "stream",
     "text": [
      "Number of duplicate apps: 2\n",
      "\n",
      "\n",
      "Examples of duplicate apps: ['Mannequin Challenge', 'VR Roller Coaster']\n"
     ]
    }
   ],
   "source": [
    "# App Store duplicate entries\n",
    "duplicate_apps = []\n",
    "unique_apps = []\n",
    "\n",
    "for row in ios:\n",
    "    name = row[1]\n",
    "    if name in unique_apps:\n",
    "        duplicate_apps.append(name)\n",
    "    else:\n",
    "        unique_apps.append(name)\n",
    "        \n",
    "print(\"Number of duplicate apps: {}\".format(len(duplicate_apps)))\n",
    "print(\"\\n\")\n",
    "print(\"Examples of duplicate apps: {}\".format(duplicate_apps[:10]))"
   ]
  },
  {
   "cell_type": "markdown",
   "metadata": {},
   "source": [
    "Let's explore these entries a bit further since there is only 2 to deal with."
   ]
  },
  {
   "cell_type": "code",
   "execution_count": 59,
   "metadata": {
    "collapsed": false
   },
   "outputs": [
    {
     "name": "stdout",
     "output_type": "stream",
     "text": [
      "['1173990889', 'Mannequin Challenge', '109705216', 'USD', '0.0', '668', '87', '3.0', '3.0', '1.4', '9+', 'Games', '37', '4', '1', '1']\n",
      "['952877179', 'VR Roller Coaster', '169523200', 'USD', '0.0', '107', '102', '3.5', '3.5', '2.0.0', '4+', 'Games', '37', '5', '1', '1']\n",
      "['1178454060', 'Mannequin Challenge', '59572224', 'USD', '0.0', '105', '58', '4.0', '4.5', '1.0.1', '4+', 'Games', '38', '5', '1', '1']\n",
      "['1089824278', 'VR Roller Coaster', '240964608', 'USD', '0.0', '67', '44', '3.5', '4.0', '0.81', '4+', 'Games', '38', '0', '1', '1']\n"
     ]
    }
   ],
   "source": [
    "for row in ios:\n",
    "    name = row[1]\n",
    "    if name == \"Mannequin Challenge\" or name == \"VR Roller Coaster\":\n",
    "        print(row)"
   ]
  },
  {
   "cell_type": "markdown",
   "metadata": {},
   "source": [
    "Upon further exploration of the the suspected duplicate rows we can see that quite a few data points differe. These include:\n",
    "- id\n",
    "- size_bytes\n",
    "- rating_count_tot\n",
    "- user_rating\n",
    "- ver\n",
    "\n",
    "So it's quite possible that these are different apps just with the same name."
   ]
  },
  {
   "cell_type": "markdown",
   "metadata": {},
   "source": [
    "#### Dealing with duplicates in Android data set"
   ]
  },
  {
   "cell_type": "markdown",
   "metadata": {},
   "source": [
    "Rather than deleting these duplicate entries randomly, let's assume that the one with the highest reviews is the most recent and the one which we will keep within our data set.\n",
    "\n",
    "To remove the duplicates, we will:\n",
    "\n",
    "- Create a dictionary, where each dictionary key is a unique app name and the corresponding dictionary value is the highest number of reviews of that app.\n",
    "- Use the information stored in the dictionary and create a new data set, which will have only one entry per app (and for each app, we'll only select the entry with the highest number of reviews)."
   ]
  },
  {
   "cell_type": "code",
   "execution_count": 60,
   "metadata": {
    "collapsed": false
   },
   "outputs": [
    {
     "name": "stdout",
     "output_type": "stream",
     "text": [
      "Expected length: 9659\n",
      "Length of reviews_max: 9659\n"
     ]
    }
   ],
   "source": [
    "# Google Play\n",
    "reviews_max = {}\n",
    "\n",
    "for row in android:\n",
    "    name = row[0]\n",
    "    num_of_reviews = float(row[3])\n",
    "    \n",
    "    if name in reviews_max and reviews_max[name] < num_of_reviews:\n",
    "        reviews_max[name] = num_of_reviews\n",
    "    elif name not in reviews_max:\n",
    "        reviews_max[name] = num_of_reviews\n",
    "        \n",
    "print(\"Expected length: {}\".format(len(android) - 1181)) # 1181 refers to num of duplicate apps in Google play data set\n",
    "print(\"Length of reviews_max: {}\".format(len(reviews_max)))"
   ]
  },
  {
   "cell_type": "code",
   "execution_count": 61,
   "metadata": {
    "collapsed": false
   },
   "outputs": [
    {
     "name": "stdout",
     "output_type": "stream",
     "text": [
      "Number of rows in android_clean: 9659\n"
     ]
    }
   ],
   "source": [
    "android_clean = []\n",
    "already_added = []\n",
    "\n",
    "for row in android:\n",
    "    name = row[0]\n",
    "    num_of_reviews = float(row[3])\n",
    "    \n",
    "    if name not in already_added and reviews_max[name] == num_of_reviews:\n",
    "        android_clean.append(row)\n",
    "        already_added.append(name)\n",
    "        \n",
    "print(\"Number of rows in android_clean: {}\".format(len(android_clean)))"
   ]
  },
  {
   "cell_type": "markdown",
   "metadata": {},
   "source": [
    "### Dealing With Non-English Apps"
   ]
  },
  {
   "cell_type": "code",
   "execution_count": 62,
   "metadata": {
    "collapsed": false
   },
   "outputs": [
    {
     "name": "stdout",
     "output_type": "stream",
     "text": [
      "True\n",
      "False\n",
      "True\n"
     ]
    }
   ],
   "source": [
    "def is_english_char(string):\n",
    "    non_ascii = 0\n",
    "    for char in string:\n",
    "        if ord(char) > 127:\n",
    "            non_ascii += 1\n",
    "    if non_ascii > 3:\n",
    "        return False\n",
    "    else:\n",
    "        return True\n",
    "\n",
    "# Test function\n",
    "print(is_english_char(\"Instagram\"))\n",
    "print(is_english_char(\"爱奇艺PPS -《欢乐颂2》电视剧热播\"))\n",
    "print(is_english_char(\"Instachat 😜\"))"
   ]
  },
  {
   "cell_type": "code",
   "execution_count": 63,
   "metadata": {
    "collapsed": false
   },
   "outputs": [
    {
     "name": "stdout",
     "output_type": "stream",
     "text": [
      "Number of english Android apps: 9614\n",
      "Number of english iOS apps: 6183\n"
     ]
    }
   ],
   "source": [
    "english_android_apps = []\n",
    "english_ios_apps = []\n",
    "\n",
    "for row in android_clean:\n",
    "    name = row[0]\n",
    "    if is_english_char(name):\n",
    "        english_android_apps.append(row)\n",
    "\n",
    "for row in ios:\n",
    "    name = row[1]\n",
    "    if is_english_char(name):\n",
    "        english_ios_apps.append(row)\n",
    "        \n",
    "print(\"Number of english Android apps: {}\".format(len(english_android_apps)))\n",
    "print(\"Number of english iOS apps: {}\".format(len(english_ios_apps)))"
   ]
  },
  {
   "cell_type": "markdown",
   "metadata": {},
   "source": [
    "### Removing Non Free Apps"
   ]
  },
  {
   "cell_type": "code",
   "execution_count": 64,
   "metadata": {
    "collapsed": false
   },
   "outputs": [
    {
     "name": "stdout",
     "output_type": "stream",
     "text": [
      "8864\n",
      "3222\n"
     ]
    }
   ],
   "source": [
    "free_english_android_apps = []\n",
    "free_english_ios_apps = []\n",
    "\n",
    "for row in english_android_apps:\n",
    "    price = row[7]\n",
    "    if price == \"0\":\n",
    "        free_english_android_apps.append(row)\n",
    "        \n",
    "for row in english_ios_apps:\n",
    "    price = row[4]\n",
    "    if price == \"0.0\":\n",
    "        free_english_ios_apps.append(row)\n",
    "        \n",
    "print(len(free_english_android_apps))\n",
    "print(len(free_english_ios_apps))"
   ]
  },
  {
   "cell_type": "markdown",
   "metadata": {},
   "source": [
    "We're left with 8864 Android apps and 3222 iOS apps, which should be enough for our analysis."
   ]
  },
  {
   "cell_type": "markdown",
   "metadata": {},
   "source": [
    "## App Validation\n",
    "\n",
    "Our end goal is to add the app on both Google Play and the App Store, we need to find app profiles that are successful on both markets.\n",
    "\n",
    "Once we have found a suitable app profile we will:\n",
    "\n",
    "1. Build a minimal Android version of the app, and add it to Google Play.\n",
    "1. If the app has a good response from users, we develop it further.\n",
    "1. If the app is profitable after six months, we build an iOS version of the app and add it to the App Store.\n",
    "\n",
    "Let's begin the analysis by getting a sense of what are the most common genres for each market."
   ]
  },
  {
   "cell_type": "markdown",
   "metadata": {},
   "source": [
    "### Most Common Genres"
   ]
  },
  {
   "cell_type": "code",
   "execution_count": 65,
   "metadata": {
    "collapsed": true
   },
   "outputs": [],
   "source": [
    "def freq_table(dataset, index):\n",
    "    table = {}\n",
    "    \n",
    "    for row in dataset:\n",
    "        key = row[index]\n",
    "        if key in table:\n",
    "            table[key] += 1\n",
    "        else:\n",
    "            table[key] = 1\n",
    "            \n",
    "    table_percentages = {}\n",
    "    for key in table:\n",
    "        percentage = (table[key] / len(dataset)) * 100\n",
    "        table_percentages[key] = percentage \n",
    "    \n",
    "    return table_percentages\n",
    "\n",
    "def display_table(dataset, index):\n",
    "    table = freq_table(dataset, index)\n",
    "    table_display = []\n",
    "    for key in table:\n",
    "        key_val_as_tuple = (table[key], key)\n",
    "        table_display.append(key_val_as_tuple)\n",
    "\n",
    "    table_sorted = sorted(table_display, reverse = True)\n",
    "    for entry in table_sorted:\n",
    "        print(entry[1], ':', entry[0])"
   ]
  },
  {
   "cell_type": "markdown",
   "metadata": {},
   "source": [
    "#### Android"
   ]
  },
  {
   "cell_type": "code",
   "execution_count": 66,
   "metadata": {
    "collapsed": false
   },
   "outputs": [
    {
     "name": "stdout",
     "output_type": "stream",
     "text": [
      "FAMILY : 18.907942238267147\n",
      "GAME : 9.724729241877256\n",
      "TOOLS : 8.461191335740072\n",
      "BUSINESS : 4.591606498194946\n",
      "LIFESTYLE : 3.9034296028880866\n",
      "PRODUCTIVITY : 3.892148014440433\n",
      "FINANCE : 3.7003610108303246\n",
      "MEDICAL : 3.531137184115524\n",
      "SPORTS : 3.395758122743682\n",
      "PERSONALIZATION : 3.3167870036101084\n",
      "COMMUNICATION : 3.2378158844765346\n",
      "HEALTH_AND_FITNESS : 3.0798736462093865\n",
      "PHOTOGRAPHY : 2.944494584837545\n",
      "NEWS_AND_MAGAZINES : 2.7978339350180503\n",
      "SOCIAL : 2.6624548736462095\n",
      "TRAVEL_AND_LOCAL : 2.33528880866426\n",
      "SHOPPING : 2.2450361010830324\n",
      "BOOKS_AND_REFERENCE : 2.1435018050541514\n",
      "DATING : 1.861462093862816\n",
      "VIDEO_PLAYERS : 1.7937725631768955\n",
      "MAPS_AND_NAVIGATION : 1.3989169675090252\n",
      "FOOD_AND_DRINK : 1.2409747292418771\n",
      "EDUCATION : 1.1620036101083033\n",
      "ENTERTAINMENT : 0.9589350180505415\n",
      "LIBRARIES_AND_DEMO : 0.9363718411552346\n",
      "AUTO_AND_VEHICLES : 0.9250902527075812\n",
      "HOUSE_AND_HOME : 0.8235559566787004\n",
      "WEATHER : 0.8009927797833934\n",
      "EVENTS : 0.7107400722021661\n",
      "PARENTING : 0.6543321299638989\n",
      "ART_AND_DESIGN : 0.6430505415162455\n",
      "COMICS : 0.6204873646209386\n",
      "BEAUTY : 0.5979241877256317\n"
     ]
    }
   ],
   "source": [
    "display_table(free_english_android_apps, 1) # Category column"
   ]
  },
  {
   "cell_type": "code",
   "execution_count": 67,
   "metadata": {
    "collapsed": false,
    "scrolled": false
   },
   "outputs": [
    {
     "name": "stdout",
     "output_type": "stream",
     "text": [
      "Tools : 8.449909747292418\n",
      "Entertainment : 6.069494584837545\n",
      "Education : 5.347472924187725\n",
      "Business : 4.591606498194946\n",
      "Productivity : 3.892148014440433\n",
      "Lifestyle : 3.892148014440433\n",
      "Finance : 3.7003610108303246\n",
      "Medical : 3.531137184115524\n",
      "Sports : 3.463447653429603\n",
      "Personalization : 3.3167870036101084\n",
      "Communication : 3.2378158844765346\n",
      "Action : 3.1024368231046933\n",
      "Health & Fitness : 3.0798736462093865\n",
      "Photography : 2.944494584837545\n",
      "News & Magazines : 2.7978339350180503\n",
      "Social : 2.6624548736462095\n",
      "Travel & Local : 2.3240072202166067\n",
      "Shopping : 2.2450361010830324\n",
      "Books & Reference : 2.1435018050541514\n",
      "Simulation : 2.0419675090252705\n",
      "Dating : 1.861462093862816\n",
      "Arcade : 1.8501805054151623\n",
      "Video Players & Editors : 1.7712093862815883\n",
      "Casual : 1.7599277978339352\n",
      "Maps & Navigation : 1.3989169675090252\n",
      "Food & Drink : 1.2409747292418771\n",
      "Puzzle : 1.128158844765343\n",
      "Racing : 0.9927797833935018\n",
      "Role Playing : 0.9363718411552346\n",
      "Libraries & Demo : 0.9363718411552346\n",
      "Auto & Vehicles : 0.9250902527075812\n",
      "Strategy : 0.9138086642599278\n",
      "House & Home : 0.8235559566787004\n",
      "Weather : 0.8009927797833934\n",
      "Events : 0.7107400722021661\n",
      "Adventure : 0.6768953068592057\n",
      "Comics : 0.6092057761732852\n",
      "Beauty : 0.5979241877256317\n",
      "Art & Design : 0.5979241877256317\n",
      "Parenting : 0.4963898916967509\n",
      "Card : 0.45126353790613716\n",
      "Casino : 0.42870036101083037\n",
      "Trivia : 0.41741877256317694\n",
      "Educational;Education : 0.39485559566787\n",
      "Board : 0.3835740072202166\n",
      "Educational : 0.3722924187725632\n",
      "Education;Education : 0.33844765342960287\n",
      "Word : 0.2594765342960289\n",
      "Casual;Pretend Play : 0.236913357400722\n",
      "Music : 0.2030685920577617\n",
      "Racing;Action & Adventure : 0.16922382671480143\n",
      "Puzzle;Brain Games : 0.16922382671480143\n",
      "Entertainment;Music & Video : 0.16922382671480143\n",
      "Casual;Brain Games : 0.13537906137184114\n",
      "Casual;Action & Adventure : 0.13537906137184114\n",
      "Arcade;Action & Adventure : 0.12409747292418773\n",
      "Action;Action & Adventure : 0.10153429602888085\n",
      "Educational;Pretend Play : 0.09025270758122744\n",
      "Simulation;Action & Adventure : 0.078971119133574\n",
      "Parenting;Education : 0.078971119133574\n",
      "Entertainment;Brain Games : 0.078971119133574\n",
      "Board;Brain Games : 0.078971119133574\n",
      "Parenting;Music & Video : 0.06768953068592057\n",
      "Educational;Brain Games : 0.06768953068592057\n",
      "Casual;Creativity : 0.06768953068592057\n",
      "Art & Design;Creativity : 0.06768953068592057\n",
      "Education;Pretend Play : 0.056407942238267145\n",
      "Role Playing;Pretend Play : 0.04512635379061372\n",
      "Education;Creativity : 0.04512635379061372\n",
      "Role Playing;Action & Adventure : 0.033844765342960284\n",
      "Puzzle;Action & Adventure : 0.033844765342960284\n",
      "Entertainment;Creativity : 0.033844765342960284\n",
      "Entertainment;Action & Adventure : 0.033844765342960284\n",
      "Educational;Creativity : 0.033844765342960284\n",
      "Educational;Action & Adventure : 0.033844765342960284\n",
      "Education;Music & Video : 0.033844765342960284\n",
      "Education;Brain Games : 0.033844765342960284\n",
      "Education;Action & Adventure : 0.033844765342960284\n",
      "Adventure;Action & Adventure : 0.033844765342960284\n",
      "Video Players & Editors;Music & Video : 0.02256317689530686\n",
      "Sports;Action & Adventure : 0.02256317689530686\n",
      "Simulation;Pretend Play : 0.02256317689530686\n",
      "Puzzle;Creativity : 0.02256317689530686\n",
      "Music;Music & Video : 0.02256317689530686\n",
      "Entertainment;Pretend Play : 0.02256317689530686\n",
      "Casual;Education : 0.02256317689530686\n",
      "Board;Action & Adventure : 0.02256317689530686\n",
      "Video Players & Editors;Creativity : 0.01128158844765343\n",
      "Trivia;Education : 0.01128158844765343\n",
      "Travel & Local;Action & Adventure : 0.01128158844765343\n",
      "Tools;Education : 0.01128158844765343\n",
      "Strategy;Education : 0.01128158844765343\n",
      "Strategy;Creativity : 0.01128158844765343\n",
      "Strategy;Action & Adventure : 0.01128158844765343\n",
      "Simulation;Education : 0.01128158844765343\n",
      "Role Playing;Brain Games : 0.01128158844765343\n",
      "Racing;Pretend Play : 0.01128158844765343\n",
      "Puzzle;Education : 0.01128158844765343\n",
      "Parenting;Brain Games : 0.01128158844765343\n",
      "Music & Audio;Music & Video : 0.01128158844765343\n",
      "Lifestyle;Pretend Play : 0.01128158844765343\n",
      "Lifestyle;Education : 0.01128158844765343\n",
      "Health & Fitness;Education : 0.01128158844765343\n",
      "Health & Fitness;Action & Adventure : 0.01128158844765343\n",
      "Entertainment;Education : 0.01128158844765343\n",
      "Communication;Creativity : 0.01128158844765343\n",
      "Comics;Creativity : 0.01128158844765343\n",
      "Casual;Music & Video : 0.01128158844765343\n",
      "Card;Action & Adventure : 0.01128158844765343\n",
      "Books & Reference;Education : 0.01128158844765343\n",
      "Art & Design;Pretend Play : 0.01128158844765343\n",
      "Art & Design;Action & Adventure : 0.01128158844765343\n",
      "Arcade;Pretend Play : 0.01128158844765343\n",
      "Adventure;Education : 0.01128158844765343\n"
     ]
    }
   ],
   "source": [
    "display_table(free_english_android_apps, -4) # Genre column"
   ]
  },
  {
   "cell_type": "markdown",
   "metadata": {},
   "source": [
    "From the analysis above we can see that the `genre` column provides finer details about the specific categorys but it is a bit noisy compared to the `category` column. So moving forward we will use the category column for a broader overview.\n",
    "\n",
    "From the results we can see that `FAMILY`, `GAME` and `TOOLS` are the top 3 most common categories on Google Play."
   ]
  },
  {
   "cell_type": "markdown",
   "metadata": {},
   "source": [
    "#### iOS"
   ]
  },
  {
   "cell_type": "code",
   "execution_count": 68,
   "metadata": {
    "collapsed": false
   },
   "outputs": [
    {
     "name": "stdout",
     "output_type": "stream",
     "text": [
      "Games : 58.16263190564867\n",
      "Entertainment : 7.883302296710118\n",
      "Photo & Video : 4.9658597144630665\n",
      "Education : 3.662321539416512\n",
      "Social Networking : 3.2898820608317814\n",
      "Shopping : 2.60707635009311\n",
      "Utilities : 2.5139664804469275\n",
      "Sports : 2.1415270018621975\n",
      "Music : 2.0484171322160147\n",
      "Health & Fitness : 2.0173805090006205\n",
      "Productivity : 1.7380509000620732\n",
      "Lifestyle : 1.5828677839851024\n",
      "News : 1.3345747982619491\n",
      "Travel : 1.2414649286157666\n",
      "Finance : 1.1173184357541899\n",
      "Weather : 0.8690254500310366\n",
      "Food & Drink : 0.8069522036002483\n",
      "Reference : 0.5586592178770949\n",
      "Business : 0.5276225946617008\n",
      "Book : 0.4345127250155183\n",
      "Navigation : 0.186219739292365\n",
      "Medical : 0.186219739292365\n",
      "Catalogs : 0.12414649286157665\n"
     ]
    }
   ],
   "source": [
    "display_table(free_english_ios_apps, -5)"
   ]
  },
  {
   "cell_type": "markdown",
   "metadata": {},
   "source": [
    "Here we can see that there is a clear domination of entertainment focused apps on the App Store, it can also be noted that the second most popular is Entertainment. However, the fact that entertainment based apps are the most numerous doesn't also imply that they also have the greatest number of users — the demand might not be the same as the offer."
   ]
  },
  {
   "cell_type": "markdown",
   "metadata": {},
   "source": [
    "### Number of Installs per Genre\n",
    "\n",
    "One way to find out what genres are the most popular (have the most users) is to calculate the average number of installs for each app genre. For the Google Play data set, we can find this information in the Installs column, but for the App Store data set this information is missing. As a workaround, we'll take the total number of user ratings."
   ]
  },
  {
   "cell_type": "code",
   "execution_count": 69,
   "metadata": {
    "collapsed": true
   },
   "outputs": [],
   "source": [
    "# Function to help sort output for easier analysis\n",
    "def print_sorted(table):\n",
    "    table_display = []\n",
    "    for key in table:\n",
    "        key_val_as_tuple = (table[key], key)\n",
    "        table_display.append(key_val_as_tuple)\n",
    "        \n",
    "    table_sorted = sorted(table_display, reverse = True)\n",
    "    for entry in table_sorted:\n",
    "        print(entry[1], ':', entry[0])"
   ]
  },
  {
   "cell_type": "markdown",
   "metadata": {},
   "source": [
    "#### Google Play"
   ]
  },
  {
   "cell_type": "code",
   "execution_count": 70,
   "metadata": {
    "collapsed": false
   },
   "outputs": [
    {
     "name": "stdout",
     "output_type": "stream",
     "text": [
      "COMMUNICATION : 38456119.167247385\n",
      "VIDEO_PLAYERS : 24727872.452830188\n",
      "SOCIAL : 23253652.127118643\n",
      "PHOTOGRAPHY : 17840110.40229885\n",
      "PRODUCTIVITY : 16787331.344927534\n",
      "GAME : 15588015.603248259\n",
      "TRAVEL_AND_LOCAL : 13984077.710144928\n",
      "ENTERTAINMENT : 11640705.88235294\n",
      "TOOLS : 10801391.298666667\n",
      "NEWS_AND_MAGAZINES : 9549178.467741935\n",
      "BOOKS_AND_REFERENCE : 8767811.894736841\n",
      "SHOPPING : 7036877.311557789\n",
      "PERSONALIZATION : 5201482.6122448975\n",
      "WEATHER : 5074486.197183099\n",
      "HEALTH_AND_FITNESS : 4188821.9853479853\n",
      "MAPS_AND_NAVIGATION : 4056941.7741935486\n",
      "FAMILY : 3695641.8198090694\n",
      "SPORTS : 3638640.1428571427\n",
      "ART_AND_DESIGN : 1986335.0877192982\n",
      "FOOD_AND_DRINK : 1924897.7363636363\n",
      "EDUCATION : 1833495.145631068\n",
      "BUSINESS : 1712290.1474201474\n",
      "LIFESTYLE : 1437816.2687861272\n",
      "FINANCE : 1387692.475609756\n",
      "HOUSE_AND_HOME : 1331540.5616438356\n",
      "DATING : 854028.8303030303\n",
      "COMICS : 817657.2727272727\n",
      "AUTO_AND_VEHICLES : 647317.8170731707\n",
      "LIBRARIES_AND_DEMO : 638503.734939759\n",
      "PARENTING : 542603.6206896552\n",
      "BEAUTY : 513151.88679245283\n",
      "EVENTS : 253542.22222222222\n",
      "MEDICAL : 120550.61980830671\n"
     ]
    }
   ],
   "source": [
    "categories_android = freq_table(free_english_android_apps, 1)\n",
    "category_installs = {}\n",
    "for category in categories_android:\n",
    "    total = 0\n",
    "    len_category = 0\n",
    "    for app in free_english_android_apps:\n",
    "        category_app = app[1]\n",
    "        if category_app == category:            \n",
    "            num_of_installs = app[5]\n",
    "            num_of_installs = num_of_installs.replace(',', '')\n",
    "            num_of_installs = num_of_installs.replace('+', '')\n",
    "            total += float(num_of_installs)\n",
    "            len_category += 1\n",
    "    avg_num_of_installs = total / len_category\n",
    "    category_installs[category] = avg_num_of_installs\n",
    "    \n",
    "print_sorted(category_installs)"
   ]
  },
  {
   "cell_type": "markdown",
   "metadata": {},
   "source": [
    "From this data we can see that `COMMUNICATION` type apps have the most users, this is probably due to popular apps like Whatsapp, Facebook messenger, Telegram etc. `VIDEO_PLAYERS` follows a similar trend with apps like Youtube, Google Play Movies & TV, or MX Player. `SOCIAL` is another category dominated by giants like Facebook, Snapchat etc. The next popular categories are a bit more interesting. `PRODUCTIVITY` would be a good choice, since we are interested in building these type of apps, but we do have to keep in mind that it also contains some massive brands like Evernote, Dropbox etc."
   ]
  },
  {
   "cell_type": "markdown",
   "metadata": {},
   "source": [
    "#### App Store"
   ]
  },
  {
   "cell_type": "code",
   "execution_count": 71,
   "metadata": {
    "collapsed": false
   },
   "outputs": [
    {
     "name": "stdout",
     "output_type": "stream",
     "text": [
      "Navigation : 86090.33333333333\n",
      "Reference : 74942.11111111111\n",
      "Social Networking : 71548.34905660378\n",
      "Music : 57326.530303030304\n",
      "Weather : 52279.892857142855\n",
      "Book : 39758.5\n",
      "Food & Drink : 33333.92307692308\n",
      "Finance : 31467.944444444445\n",
      "Photo & Video : 28441.54375\n",
      "Travel : 28243.8\n",
      "Shopping : 26919.690476190477\n",
      "Health & Fitness : 23298.015384615384\n",
      "Sports : 23008.898550724636\n",
      "Games : 22788.6696905016\n",
      "News : 21248.023255813954\n",
      "Productivity : 21028.410714285714\n",
      "Utilities : 18684.456790123455\n",
      "Lifestyle : 16485.764705882353\n",
      "Entertainment : 14029.830708661417\n",
      "Business : 7491.117647058823\n",
      "Education : 7003.983050847458\n",
      "Catalogs : 4004.0\n",
      "Medical : 612.0\n"
     ]
    }
   ],
   "source": [
    "genres_ios = freq_table(free_english_ios_apps, -5)\n",
    "genre_ratings = {}\n",
    "for genre in genres_ios:\n",
    "    total = 0\n",
    "    len_genre = 0\n",
    "    for row in free_english_ios_apps:\n",
    "        genre_app = row[-5]\n",
    "        if genre_app == genre:\n",
    "            num_of_installs = float(row[5])\n",
    "            total += num_of_installs\n",
    "            len_genre += 1\n",
    "    avg_user_ratings = total/len_genre\n",
    "    genre_ratings[genre] = avg_user_ratings\n",
    "    \n",
    "print_sorted(genre_installs)"
   ]
  },
  {
   "cell_type": "markdown",
   "metadata": {
    "collapsed": true
   },
   "source": [
    "Surprisingly we get a different result on the App Store. Naviagtion apps seem to be the most popular, which again could be due to the very popular Google Maps and Waze apps. It would be tough to build an app that would compete with these, so navigation is not something we will look further into.\n",
    "\n",
    "Here our top choice from the Google Play store (`PRODUCTIVITY`) is lower in popularity but still has some decent volume compared to other genres.\n",
    "\n",
    "# Conclusion\n",
    "\n",
    "Having a look at the analysis, we have chosen a few genres/categories that meet our needs, as well as personal interest:\n",
    "\n",
    "- Productivity\n",
    "- Books\n",
    "- Weather\n",
    "- News\n",
    "- Health and fitness\n"
   ]
  },
  {
   "cell_type": "code",
   "execution_count": 72,
   "metadata": {
    "collapsed": false,
    "scrolled": false
   },
   "outputs": [
    {
     "name": "stdout",
     "output_type": "stream",
     "text": [
      "Microsoft Word : 500,000,000+\n",
      "All-In-One Toolbox: Cleaner, Booster, App Manager : 10,000,000+\n",
      "AVG Cleaner – Speed, Battery & Memory Booster : 10,000,000+\n",
      "QR Scanner & Barcode Scanner 2018 : 10,000,000+\n",
      "Chrome Beta : 10,000,000+\n",
      "Microsoft Outlook : 100,000,000+\n",
      "Google PDF Viewer : 10,000,000+\n",
      "My Claro Peru : 5,000,000+\n",
      "Power Booster - Junk Cleaner & CPU Cooler & Boost : 1,000,000+\n",
      "Google Assistant : 10,000,000+\n",
      "Microsoft OneDrive : 100,000,000+\n",
      "Calculator - unit converter : 50,000,000+\n",
      "Microsoft OneNote : 100,000,000+\n",
      "Metro name iD : 10,000,000+\n",
      "Google Keep : 100,000,000+\n",
      "Archos File Manager : 5,000,000+\n",
      "ES File Explorer File Manager : 100,000,000+\n",
      "ASUS SuperNote : 10,000,000+\n",
      "HTC File Manager : 10,000,000+\n",
      "MyMTN : 1,000,000+\n",
      "Dropbox : 500,000,000+\n",
      "ASUS Quick Memo : 10,000,000+\n",
      "HTC Calendar : 10,000,000+\n",
      "Google Docs : 100,000,000+\n",
      "ASUS Calling Screen : 10,000,000+\n",
      "lifebox : 5,000,000+\n",
      "Yandex.Disk : 5,000,000+\n",
      "Content Transfer : 5,000,000+\n",
      "HTC Mail : 10,000,000+\n",
      "Advanced Task Killer : 50,000,000+\n",
      "MyVodafone (India) - Online Recharge & Pay Bills : 10,000,000+\n",
      "Microsoft PowerPoint : 100,000,000+\n",
      "Microsoft Translator : 5,000,000+\n",
      "My Airtel-Online Recharge, Pay Bill, Wallet, UPI : 50,000,000+\n",
      "Samsung Notes : 100,000,000+\n",
      "Do It Later: Tasks & To-Dos : 50,000,000+\n",
      "Verizon Cloud : 50,000,000+\n",
      "myAT&T : 50,000,000+\n",
      "SwiftKey Keyboard : 100,000,000+\n",
      "Hacker's Keyboard : 1,000,000+\n",
      "MEGA : 50,000,000+\n",
      "Security & Privacy : 1,000,000+\n",
      "7 Weeks - Habit & Goal Tracker : 500,000+\n",
      "Loop - Habit Tracker : 1,000,000+\n",
      "TickTick: To Do List with Reminder, Day Planner : 1,000,000+\n",
      "Keeper: Free Password Manager & Secure Vault : 10,000,000+\n",
      "Pushbullet - SMS on PC : 1,000,000+\n",
      "Wunderlist: To-Do List & Tasks : 10,000,000+\n",
      "Planner Pro-Personal Organizer : 1,000,000+\n"
     ]
    }
   ],
   "source": [
    "# Top 50 apps for productivity\n",
    "num_of_rows = 1\n",
    "\n",
    "for row in free_english_android_apps:\n",
    "    if row[1] == \"PRODUCTIVITY\" and num_of_rows < 50:\n",
    "        print(\"{} : {}\".format(row[0], row[5]))\n",
    "        num_of_rows += 1"
   ]
  },
  {
   "cell_type": "code",
   "execution_count": 73,
   "metadata": {
    "collapsed": false
   },
   "outputs": [
    {
     "name": "stdout",
     "output_type": "stream",
     "text": [
      "E-Book Read - Read Book for free : 50,000+\n",
      "Download free book with green book : 100,000+\n",
      "Wikipedia : 10,000,000+\n",
      "Cool Reader : 10,000,000+\n",
      "Free Panda Radio Music : 100,000+\n",
      "Book store : 1,000,000+\n",
      "FBReader: Favorite Book Reader : 10,000,000+\n",
      "English Grammar Complete Handbook : 500,000+\n",
      "Free Books - Spirit Fanfiction and Stories : 1,000,000+\n",
      "Google Play Books : 1,000,000,000+\n",
      "AlReader -any text book reader : 5,000,000+\n",
      "Offline English Dictionary : 100,000+\n",
      "Offline: English to Tagalog Dictionary : 500,000+\n",
      "FamilySearch Tree : 1,000,000+\n",
      "Cloud of Books : 1,000,000+\n",
      "Recipes of Prophetic Medicine for free : 500,000+\n",
      "ReadEra – free ebook reader : 1,000,000+\n",
      "Anonymous caller detection : 10,000+\n",
      "Ebook Reader : 5,000,000+\n",
      "Litnet - E-books : 100,000+\n",
      "Read books online : 5,000,000+\n",
      "English to Urdu Dictionary : 500,000+\n",
      "eBoox: book reader fb2 epub zip : 1,000,000+\n",
      "English Persian Dictionary : 500,000+\n",
      "Flybook : 500,000+\n",
      "All Maths Formulas : 1,000,000+\n",
      "Ancestry : 5,000,000+\n",
      "HTC Help : 10,000,000+\n",
      "English translation from Bengali : 100,000+\n",
      "Pdf Book Download - Read Pdf Book : 100,000+\n",
      "Free Book Reader : 100,000+\n",
      "eBoox new: Reader for fb2 epub zip books : 50,000+\n",
      "Only 30 days in English, the guideline is guaranteed : 500,000+\n",
      "Moon+ Reader : 10,000,000+\n",
      "SH-02J Owner's Manual (Android 8.0) : 50,000+\n",
      "English-Myanmar Dictionary : 1,000,000+\n",
      "Golden Dictionary (EN-AR) : 1,000,000+\n",
      "All Language Translator Free : 1,000,000+\n",
      "Azpen eReader : 500,000+\n",
      "URBANO V 02 instruction manual : 100,000+\n",
      "Bible : 100,000,000+\n",
      "C Programs and Reference : 50,000+\n",
      "C Offline Tutorial : 1,000+\n",
      "C Programs Handbook : 50,000+\n",
      "Amazon Kindle : 100,000,000+\n",
      "Aab e Hayat Full Novel : 100,000+\n",
      "Aldiko Book Reader : 10,000,000+\n",
      "Google I/O 2018 : 500,000+\n",
      "R Language Reference Guide : 10,000+\n"
     ]
    }
   ],
   "source": [
    "# Top 50 apps for books\n",
    "num_of_rows = 1\n",
    "\n",
    "for row in free_english_android_apps:\n",
    "    if row[1] == \"BOOKS_AND_REFERENCE\" and num_of_rows < 50:\n",
    "        print(\"{} : {}\".format(row[0], row[5]))\n",
    "        num_of_rows += 1"
   ]
  },
  {
   "cell_type": "code",
   "execution_count": 74,
   "metadata": {
    "collapsed": false
   },
   "outputs": [
    {
     "name": "stdout",
     "output_type": "stream",
     "text": [
      "The Weather Channel: Rain Forecast & Storm Alerts : 50,000,000+\n",
      "Weather forecast : 1,000,000+\n",
      "AccuWeather: Daily Forecast & Live Weather Reports : 50,000,000+\n",
      "Live Weather Pro : 10,000+\n",
      "Weather by WeatherBug: Forecast, Radar & Alerts : 10,000,000+\n",
      "weather - weather forecast : 1,000,000+\n",
      "MyRadar NOAA Weather Radar : 10,000,000+\n",
      "SMHI Weather : 1,000,000+\n",
      "Free live weather on screen : 1,000,000+\n",
      "Weather Radar Widget : 1,000,000+\n",
      "Weather –Simple weather forecast : 10,000,000+\n",
      "Weather Crave : 5,000,000+\n",
      "Klara weather : 500,000+\n",
      "Yahoo Weather : 10,000,000+\n",
      "Real time Weather Forecast : 1,000,000+\n",
      "METEO FRANCE : 5,000,000+\n",
      "APE Weather ( Live Forecast) : 5,000,000+\n",
      "Live Weather & Daily Local Weather Forecast : 1,000,000+\n",
      "Weather : 10,000,000+\n",
      "Rainfall radar - weather : 5,000,000+\n",
      "Yahoo! Weather for SH Forecast for understanding the approach of rain clouds Free : 1,000,000+\n",
      "The Weather Network : 5,000,000+\n",
      "Klart.se - Sweden's best weather : 1,000,000+\n",
      "GO Weather - Widget, Theme, Wallpaper, Efficient : 50,000,000+\n",
      "Info BMKG : 1,000,000+\n",
      "Weather From DMI/YR : 100,000+\n",
      "wetter.com - Weather and Radar : 10,000,000+\n",
      "Storm Radar: Tornado Tracker & Hurricane Alerts : 1,000,000+\n",
      "Yandex.Weather : 10,000,000+\n",
      "Local Weather Forecast & Visual Widget : 500,000+\n",
      "Wetter by t-online.de : 1,000,000+\n",
      "HTC Weather : 10,000,000+\n",
      "AEMET's time : 1,000,000+\n",
      "New 2018 Weather App & Widget : 500,000+\n",
      "Météociel : 500,000+\n",
      "Climatempo Lite - 15 day weather forecast : 100,000+\n",
      "ForecaWeather : 1,000,000+\n",
      "HumorCast - Authentic Weather : 100,000+\n",
      "W - Weather Forecast & Animated Radar Maps : 5,000+\n",
      "Weather & Clock Widget for Android : 50,000,000+\n",
      "WeatherClear - Ad-free Weather, Minute forecast : 50,000+\n",
      "Ag Weather Tools : 500+\n",
      "Wind & Weather Meter for Ag : 1,000+\n",
      "Au Weather Free : 100,000+\n",
      "Amber Weather : 10,000,000+\n",
      "ByssWeather for Wear OS : 1,000,000+\n",
      "Sun & Moon AR Locator : 10,000+\n",
      "RadarNow! : 5,000,000+\n",
      "Skywatch BL : 1,000+\n"
     ]
    }
   ],
   "source": [
    "# Top 50 apps for weather\n",
    "num_of_rows = 1\n",
    "\n",
    "for row in free_english_android_apps:\n",
    "    if row[1] == \"WEATHER\" and num_of_rows < 50:\n",
    "        print(\"{} : {}\".format(row[0], row[5]))\n",
    "        num_of_rows += 1"
   ]
  },
  {
   "cell_type": "code",
   "execution_count": 75,
   "metadata": {
    "collapsed": false
   },
   "outputs": [
    {
     "name": "stdout",
     "output_type": "stream",
     "text": [
      "Fox News – Breaking News, Live Video & News Alerts : 10,000,000+\n",
      "NEW - Read Newspaper, News 24h : 10,000,000+\n",
      "BaBe + - Indonesian News : 1,000,000+\n",
      "daily News : 1,000,000+\n",
      "BBC News : 10,000,000+\n",
      "Free TV Shows App:News, TV Series, Episode, Movies : 1,000,000+\n",
      "News24 : 1,000,000+\n",
      "Le Monde, the continuous news : 5,000,000+\n",
      "Wireless news : 1,000,000+\n",
      "CNN Breaking US & World News : 10,000,000+\n",
      "Gnoche entertainment news · sports news is also free : 5,000,000+\n",
      "BaBe - Read News : 10,000,000+\n",
      "Nigeria News NAIJ.com : 1,000,000+\n",
      "detikcom - Latest & Most Complete News : 10,000,000+\n",
      "Dailyhunt (Newshunt) - Latest News, Viral Videos : 50,000,000+\n",
      "BaBe Lite - Read Quota Saving News : 1,000,000+\n",
      "ARY NEWS URDU : 500,000+\n",
      "Bengali Newspaper - The first L. : 1,000,000+\n",
      "Read- Latest News, Information, Gossip and Politics : 10,000,000+\n",
      "Reddit: Social News, Trending Memes & Funny Videos : 10,000,000+\n",
      "BBC Persian | BBC Farsi News : 100,000+\n",
      "Opera News - Trending news and videos : 10,000,000+\n",
      "Topbuzz: Breaking News, Videos & Funny GIFs : 10,000,000+\n",
      "Twitter : 500,000,000+\n",
      "Pulse Nabd - World News, Urgent : 10,000,000+\n",
      "Asahi Shimbun Digital : 500,000+\n",
      "Breaking News, Local news, Attacks and Alerts Free : 500,000+\n",
      "WE : 1,000,000+\n",
      "Sky News : 1,000,000+\n",
      "Microsoft News : 1,000,000+\n",
      "Onet - news, weather, sport : 1,000,000+\n",
      "Vietnam Today - Read online newspapers, the hottest news 24h : 5,000,000+\n",
      "Apple Daily Apple News : 5,000,000+\n",
      "The Report, Fox, Breitbart - Conservative News : 50,000+\n",
      "Tencent News : 1,000,000+\n",
      "ARY NEWS : 1,000,000+\n",
      "Kurio - Read the Latest News : 1,000,000+\n",
      "Daily Mail Online : 5,000,000+\n",
      "Loop - Caribbean Local News : 1,000,000+\n",
      "AD - News, Sports, Region & Entertainment : 1,000,000+\n",
      "Podcast Addict : 5,000,000+\n",
      "Podcast Republic - Podcast Player & Radio Player : 1,000,000+\n",
      "Spreaker Podcast Radio : 500,000+\n",
      "BeyondPod Podcast Manager : 1,000,000+\n",
      "Dezeen Magazine RSS Reader : 10,000+\n",
      "issuu - Read Magazines, Catalogs, Newspapers. : 1,000,000+\n",
      "BuzzFeed: News, Tasty, Quizzes : 5,000,000+\n",
      "Fast News : 1,000,000+\n",
      "LA Times: Your California News : 100,000+\n"
     ]
    }
   ],
   "source": [
    "# Top 50 apps for news\n",
    "num_of_rows = 1\n",
    "\n",
    "for row in free_english_android_apps:\n",
    "    if row[1] == \"NEWS_AND_MAGAZINES\" and num_of_rows < 50:\n",
    "        print(\"{} : {}\".format(row[0], row[5]))\n",
    "        num_of_rows += 1"
   ]
  },
  {
   "cell_type": "code",
   "execution_count": 76,
   "metadata": {
    "collapsed": false
   },
   "outputs": [
    {
     "name": "stdout",
     "output_type": "stream",
     "text": [
      "Step Counter - Calorie Counter : 500,000+\n",
      "Lose Belly Fat in 30 Days - Flat Stomach : 5,000,000+\n",
      "Pedometer - Step Counter Free & Calorie Burner : 1,000,000+\n",
      "Six Pack in 30 Days - Abs Workout : 10,000,000+\n",
      "Lose Weight in 30 Days : 10,000,000+\n",
      "Pedometer : 10,000,000+\n",
      "LG Health : 10,000,000+\n",
      "Step Counter - Pedometer Free & Calorie Counter : 10,000,000+\n",
      "Pedometer, Step Counter & Weight Loss Tracker App : 10,000,000+\n",
      "Sportractive GPS Running Cycling Distance Tracker : 1,000,000+\n",
      "30 Day Fitness Challenge - Workout at Home : 10,000,000+\n",
      "Home Workout for Men - Bodybuilding : 1,000,000+\n",
      "Fat Burning Workout - Home Weight lose : 100,000+\n",
      "Buttocks and Abdomen : 500,000+\n",
      "Walking for Weight Loss - Walk Tracker : 100,000+\n",
      "Running & Jogging : 500,000+\n",
      "Sleep Sounds : 1,000,000+\n",
      "Fitbit : 10,000,000+\n",
      "Lose Belly Fat-Home Abs Fitness Workout : 50,000+\n",
      "Cycling - Bike Tracker : 500,000+\n",
      "Abs Training-Burn belly fat : 100,000+\n",
      "Calorie Counter - EasyFit free : 1,000,000+\n",
      "Aunjai i lert u : 500,000+\n",
      "Garmin Connect™ : 10,000,000+\n",
      "BetterMe: Weight Loss Workouts : 5,000,000+\n",
      "Bike Computer - GPS Cycling Tracker : 1,000,000+\n",
      "Six Packs for Man–Body Building with No Equipment : 100,000+\n",
      "Running Distance Tracker + : 1,000,000+\n",
      "The TK-App - everything under control : 100,000+\n",
      "Runkeeper - GPS Track Run Walk : 10,000,000+\n",
      "Walking: Pedometer diet : 1,000,000+\n",
      "Recipes for hair and face tried : 500,000+\n",
      "Abs Workout - 30 Days Fitness App for Six Pack Abs : 100,000+\n",
      "8fit Workouts & Meal Planner : 10,000,000+\n",
      "Keep Trainer - Workout Trainer & Fitness Coach : 1,000,000+\n",
      "Couch to 10K Running Trainer : 500,000+\n",
      "PumpUp — Fitness Community : 1,000,000+\n",
      "Home workouts - fat burning, abs, legs, arms,chest : 1,000,000+\n",
      "Running Weight Loss Walking Jogging Hiking FITAPP : 1,000,000+\n",
      "Strava Training: Track Running, Cycling & Swimming : 10,000,000+\n",
      "Workout Trainer: fitness coach : 10,000,000+\n",
      "Fabulous: Motivate Me! Meditate, Relax, Sleep : 5,000,000+\n",
      "StrongLifts 5x5 Workout Gym Log & Personal Trainer : 1,000,000+\n",
      "Run with Map My Run : 5,000,000+\n",
      "7 Minute Workout : 10,000,000+\n",
      "Workout Tracker & Gym Trainer - Fitness Log Book : 500,000+\n",
      "Freeletics: Personal Trainer & Fitness Workouts : 10,000,000+\n",
      "Fitbit Coach : 1,000,000+\n",
      "JEFIT Workout Tracker, Weight Lifting, Gym Log App : 5,000,000+\n"
     ]
    }
   ],
   "source": [
    "# Top 50 apps for Health & Fitness\n",
    "num_of_rows = 1\n",
    "\n",
    "for row in free_english_android_apps:\n",
    "    if row[1] == \"HEALTH_AND_FITNESS\" and num_of_rows < 50:\n",
    "        print(\"{} : {}\".format(row[0], row[5]))\n",
    "        num_of_rows += 1"
   ]
  }
 ],
 "metadata": {
  "kernelspec": {
   "display_name": "Python 3",
   "language": "python",
   "name": "python3"
  },
  "language_info": {
   "codemirror_mode": {
    "name": "ipython",
    "version": 3
   },
   "file_extension": ".py",
   "mimetype": "text/x-python",
   "name": "python",
   "nbconvert_exporter": "python",
   "pygments_lexer": "ipython3",
   "version": "3.4.3"
  }
 },
 "nbformat": 4,
 "nbformat_minor": 2
}
